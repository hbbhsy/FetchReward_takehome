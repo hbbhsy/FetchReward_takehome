{
 "cells": [
  {
   "cell_type": "markdown",
   "metadata": {},
   "source": [
    "# Data Science Take-Home\n",
    "Author: Agnes He <br>\n",
    "Date: Oct 08, 2023\n",
    "## Problem statement\n",
    "Fetch provides value to our user base through the rich variety of offers that are active in the app. We want our users to be able to easily seek out offers in the app, so that they get the most out of using the app and our partners get the most out of their relationship with Fetch. <br>\n",
    "For this assignment, **you will build a tool that allows users to intelligently search for offers via text input from the user.** <br>\n",
    "You will be provided with a dataset of offers and some associated metadata around the retailers and brands that are sponsoring the offer. You will also be provided with a dataset of some brands that we support on our platform, and the categories that those products belong to.\n",
    "## Asymmetric Semantic Search\n",
    "From the problem statement, we want to allow the user to input some short query for brands, retailers or category, and the model will return the top k offers that are related to the search query. This problem could be considered as an **asymmetric sementic search**."
   ]
  },
  {
   "cell_type": "markdown",
   "metadata": {},
   "source": [
    "# 0. Import dependencies"
   ]
  },
  {
   "cell_type": "code",
   "execution_count": 1,
   "metadata": {},
   "outputs": [
    {
     "name": "stderr",
     "output_type": "stream",
     "text": [
      "/opt/anaconda3/lib/python3.8/site-packages/pandas/core/computation/expressions.py:20: UserWarning: Pandas requires version '2.7.3' or newer of 'numexpr' (version '2.7.1' currently installed).\n",
      "  from pandas.core.computation.check import NUMEXPR_INSTALLED\n"
     ]
    }
   ],
   "source": [
    "import numpy as np\n",
    "import pandas as pd\n",
    "import torch\n",
    "from sentence_transformers import SentenceTransformer, util"
   ]
  },
  {
   "cell_type": "markdown",
   "metadata": {},
   "source": [
    "# 1. EDA & Preprocess\n",
    "#### There are three csv files provided. Using Pandas to read all three dataset into pandas dataframes and preforms simple EDA to understand the data. \n",
    "#### For each dataset, normalize the column names so the similar features in different datasets have the same name. Normalization are also needed for text data for model training."
   ]
  },
  {
   "cell_type": "code",
   "execution_count": 2,
   "metadata": {},
   "outputs": [
    {
     "name": "stdout",
     "output_type": "stream",
     "text": [
      "<class 'pandas.core.frame.DataFrame'>\n",
      "RangeIndex: 9906 entries, 0 to 9905\n",
      "Data columns (total 3 columns):\n",
      " #   Column                     Non-Null Count  Dtype \n",
      "---  ------                     --------------  ----- \n",
      " 0   BRAND                      9905 non-null   object\n",
      " 1   BRAND_BELONGS_TO_CATEGORY  9906 non-null   object\n",
      " 2   RECEIPTS                   9906 non-null   int64 \n",
      "dtypes: int64(1), object(2)\n",
      "memory usage: 232.3+ KB\n"
     ]
    }
   ],
   "source": [
    "brand_df = pd.read_csv('data/brand_category.csv')\n",
    "brand_df.info()"
   ]
  },
  {
   "cell_type": "code",
   "execution_count": 3,
   "metadata": {},
   "outputs": [
    {
     "data": {
      "text/html": [
       "<div>\n",
       "<style scoped>\n",
       "    .dataframe tbody tr th:only-of-type {\n",
       "        vertical-align: middle;\n",
       "    }\n",
       "\n",
       "    .dataframe tbody tr th {\n",
       "        vertical-align: top;\n",
       "    }\n",
       "\n",
       "    .dataframe thead th {\n",
       "        text-align: right;\n",
       "    }\n",
       "</style>\n",
       "<table border=\"1\" class=\"dataframe\">\n",
       "  <thead>\n",
       "    <tr style=\"text-align: right;\">\n",
       "      <th></th>\n",
       "      <th>BRAND</th>\n",
       "      <th>BRAND_BELONGS_TO_CATEGORY</th>\n",
       "      <th>RECEIPTS</th>\n",
       "    </tr>\n",
       "  </thead>\n",
       "  <tbody>\n",
       "    <tr>\n",
       "      <th>0</th>\n",
       "      <td>CASEYS GEN STORE</td>\n",
       "      <td>Tobacco Products</td>\n",
       "      <td>2950931</td>\n",
       "    </tr>\n",
       "    <tr>\n",
       "      <th>1</th>\n",
       "      <td>CASEYS GEN STORE</td>\n",
       "      <td>Mature</td>\n",
       "      <td>2859240</td>\n",
       "    </tr>\n",
       "    <tr>\n",
       "      <th>2</th>\n",
       "      <td>EQUATE</td>\n",
       "      <td>Hair Removal</td>\n",
       "      <td>893268</td>\n",
       "    </tr>\n",
       "    <tr>\n",
       "      <th>3</th>\n",
       "      <td>PALMOLIVE</td>\n",
       "      <td>Bath &amp; Body</td>\n",
       "      <td>542562</td>\n",
       "    </tr>\n",
       "    <tr>\n",
       "      <th>4</th>\n",
       "      <td>DAWN</td>\n",
       "      <td>Bath &amp; Body</td>\n",
       "      <td>301844</td>\n",
       "    </tr>\n",
       "  </tbody>\n",
       "</table>\n",
       "</div>"
      ],
      "text/plain": [
       "              BRAND BRAND_BELONGS_TO_CATEGORY  RECEIPTS\n",
       "0  CASEYS GEN STORE          Tobacco Products   2950931\n",
       "1  CASEYS GEN STORE                    Mature   2859240\n",
       "2            EQUATE              Hair Removal    893268\n",
       "3         PALMOLIVE               Bath & Body    542562\n",
       "4              DAWN               Bath & Body    301844"
      ]
     },
     "execution_count": 3,
     "metadata": {},
     "output_type": "execute_result"
    }
   ],
   "source": [
    "brand_df.head()"
   ]
  },
  {
   "cell_type": "code",
   "execution_count": 4,
   "metadata": {},
   "outputs": [],
   "source": [
    "# Drop unuseful column RECEIPTS, change all column names to lowercases.\n",
    "brand_df.drop(['RECEIPTS'], axis=1, inplace=True)\n",
    "brand_df.rename(columns={'BRAND':'brand', 'BRAND_BELONGS_TO_CATEGORY':'category'}, inplace=True)"
   ]
  },
  {
   "cell_type": "code",
   "execution_count": 5,
   "metadata": {},
   "outputs": [
    {
     "data": {
      "text/plain": [
       "brand       8521\n",
       "category     118\n",
       "dtype: int64"
      ]
     },
     "execution_count": 5,
     "metadata": {},
     "output_type": "execute_result"
    }
   ],
   "source": [
    "# Count unique values in each columns\n",
    "brand_df.nunique()"
   ]
  },
  {
   "cell_type": "markdown",
   "metadata": {},
   "source": [
    "#### Number of unique values in brand is less than the total number, thus some brand may contains multiple categories. We want to join concatenate the categories for each brand."
   ]
  },
  {
   "cell_type": "code",
   "execution_count": 6,
   "metadata": {},
   "outputs": [
    {
     "data": {
      "text/plain": [
       "category    717\n",
       "dtype: int64"
      ]
     },
     "execution_count": 6,
     "metadata": {},
     "output_type": "execute_result"
    }
   ],
   "source": [
    "# Some brand may contains multiple categories\n",
    "(brand_df.groupby(['brand']).count()>1).sum()"
   ]
  },
  {
   "cell_type": "code",
   "execution_count": 7,
   "metadata": {},
   "outputs": [],
   "source": [
    "brand_df = brand_df.groupby('brand').agg(lambda col: ','.join(col)).reset_index()"
   ]
  },
  {
   "cell_type": "code",
   "execution_count": 8,
   "metadata": {},
   "outputs": [
    {
     "name": "stdout",
     "output_type": "stream",
     "text": [
      "<class 'pandas.core.frame.DataFrame'>\n",
      "RangeIndex: 118 entries, 0 to 117\n",
      "Data columns (total 3 columns):\n",
      " #   Column                Non-Null Count  Dtype \n",
      "---  ------                --------------  ----- \n",
      " 0   CATEGORY_ID           118 non-null    object\n",
      " 1   PRODUCT_CATEGORY      118 non-null    object\n",
      " 2   IS_CHILD_CATEGORY_TO  118 non-null    object\n",
      "dtypes: object(3)\n",
      "memory usage: 2.9+ KB\n"
     ]
    }
   ],
   "source": [
    "cat_df = pd.read_csv('data/categories.csv')\n",
    "cat_df.info()"
   ]
  },
  {
   "cell_type": "code",
   "execution_count": 9,
   "metadata": {},
   "outputs": [
    {
     "data": {
      "text/html": [
       "<div>\n",
       "<style scoped>\n",
       "    .dataframe tbody tr th:only-of-type {\n",
       "        vertical-align: middle;\n",
       "    }\n",
       "\n",
       "    .dataframe tbody tr th {\n",
       "        vertical-align: top;\n",
       "    }\n",
       "\n",
       "    .dataframe thead th {\n",
       "        text-align: right;\n",
       "    }\n",
       "</style>\n",
       "<table border=\"1\" class=\"dataframe\">\n",
       "  <thead>\n",
       "    <tr style=\"text-align: right;\">\n",
       "      <th></th>\n",
       "      <th>CATEGORY_ID</th>\n",
       "      <th>PRODUCT_CATEGORY</th>\n",
       "      <th>IS_CHILD_CATEGORY_TO</th>\n",
       "    </tr>\n",
       "  </thead>\n",
       "  <tbody>\n",
       "    <tr>\n",
       "      <th>0</th>\n",
       "      <td>1f7d2fa7-a1d7-4969-aaf4-1244f232c175</td>\n",
       "      <td>Red Pasta Sauce</td>\n",
       "      <td>Pasta Sauce</td>\n",
       "    </tr>\n",
       "    <tr>\n",
       "      <th>1</th>\n",
       "      <td>3e48a9b3-1ab2-4f2d-867d-4a30828afeab</td>\n",
       "      <td>Alfredo &amp; White Pasta Sauce</td>\n",
       "      <td>Pasta Sauce</td>\n",
       "    </tr>\n",
       "    <tr>\n",
       "      <th>2</th>\n",
       "      <td>09f3decc-aa93-460d-936c-0ddf06b055a3</td>\n",
       "      <td>Cooking &amp; Baking</td>\n",
       "      <td>Pantry</td>\n",
       "    </tr>\n",
       "    <tr>\n",
       "      <th>3</th>\n",
       "      <td>12a89b18-4c01-4048-94b2-0705e0a45f6b</td>\n",
       "      <td>Packaged Seafood</td>\n",
       "      <td>Pantry</td>\n",
       "    </tr>\n",
       "    <tr>\n",
       "      <th>4</th>\n",
       "      <td>2caa015a-ca32-4456-a086-621446238783</td>\n",
       "      <td>Feminine Hygeine</td>\n",
       "      <td>Health &amp; Wellness</td>\n",
       "    </tr>\n",
       "  </tbody>\n",
       "</table>\n",
       "</div>"
      ],
      "text/plain": [
       "                            CATEGORY_ID             PRODUCT_CATEGORY  \\\n",
       "0  1f7d2fa7-a1d7-4969-aaf4-1244f232c175              Red Pasta Sauce   \n",
       "1  3e48a9b3-1ab2-4f2d-867d-4a30828afeab  Alfredo & White Pasta Sauce   \n",
       "2  09f3decc-aa93-460d-936c-0ddf06b055a3             Cooking & Baking   \n",
       "3  12a89b18-4c01-4048-94b2-0705e0a45f6b             Packaged Seafood   \n",
       "4  2caa015a-ca32-4456-a086-621446238783             Feminine Hygeine   \n",
       "\n",
       "  IS_CHILD_CATEGORY_TO  \n",
       "0          Pasta Sauce  \n",
       "1          Pasta Sauce  \n",
       "2               Pantry  \n",
       "3               Pantry  \n",
       "4    Health & Wellness  "
      ]
     },
     "execution_count": 9,
     "metadata": {},
     "output_type": "execute_result"
    }
   ],
   "source": [
    "cat_df.head()"
   ]
  },
  {
   "cell_type": "code",
   "execution_count": 10,
   "metadata": {},
   "outputs": [
    {
     "data": {
      "text/plain": [
       "CATEGORY_ID             118\n",
       "PRODUCT_CATEGORY        118\n",
       "IS_CHILD_CATEGORY_TO     23\n",
       "dtype: int64"
      ]
     },
     "execution_count": 10,
     "metadata": {},
     "output_type": "execute_result"
    }
   ],
   "source": [
    "cat_df.nunique()"
   ]
  },
  {
   "cell_type": "code",
   "execution_count": 11,
   "metadata": {},
   "outputs": [],
   "source": [
    "# Drop unuseful column RECEIPTS, change all column names to lowercases.\n",
    "cat_df.drop(['CATEGORY_ID'], axis=1, inplace=True)\n",
    "cat_df.rename(columns={'PRODUCT_CATEGORY':'category', 'IS_CHILD_CATEGORY_TO':'parent_category'}, inplace=True)"
   ]
  },
  {
   "cell_type": "code",
   "execution_count": 12,
   "metadata": {},
   "outputs": [
    {
     "name": "stdout",
     "output_type": "stream",
     "text": [
      "<class 'pandas.core.frame.DataFrame'>\n",
      "RangeIndex: 384 entries, 0 to 383\n",
      "Data columns (total 3 columns):\n",
      " #   Column    Non-Null Count  Dtype \n",
      "---  ------    --------------  ----- \n",
      " 0   OFFER     384 non-null    object\n",
      " 1   RETAILER  238 non-null    object\n",
      " 2   BRAND     384 non-null    object\n",
      "dtypes: object(3)\n",
      "memory usage: 9.1+ KB\n"
     ]
    }
   ],
   "source": [
    "offer_df = pd.read_csv('data/offer_retailer.csv')\n",
    "offer_df.info()"
   ]
  },
  {
   "cell_type": "code",
   "execution_count": 13,
   "metadata": {},
   "outputs": [
    {
     "data": {
      "text/html": [
       "<div>\n",
       "<style scoped>\n",
       "    .dataframe tbody tr th:only-of-type {\n",
       "        vertical-align: middle;\n",
       "    }\n",
       "\n",
       "    .dataframe tbody tr th {\n",
       "        vertical-align: top;\n",
       "    }\n",
       "\n",
       "    .dataframe thead th {\n",
       "        text-align: right;\n",
       "    }\n",
       "</style>\n",
       "<table border=\"1\" class=\"dataframe\">\n",
       "  <thead>\n",
       "    <tr style=\"text-align: right;\">\n",
       "      <th></th>\n",
       "      <th>OFFER</th>\n",
       "      <th>RETAILER</th>\n",
       "      <th>BRAND</th>\n",
       "    </tr>\n",
       "  </thead>\n",
       "  <tbody>\n",
       "    <tr>\n",
       "      <th>0</th>\n",
       "      <td>Spend $50 on a Full-Priced new Club Membership</td>\n",
       "      <td>SAMS CLUB</td>\n",
       "      <td>SAMS CLUB</td>\n",
       "    </tr>\n",
       "    <tr>\n",
       "      <th>1</th>\n",
       "      <td>Beyond Meat® Plant-Based products, spend $25</td>\n",
       "      <td>NaN</td>\n",
       "      <td>BEYOND MEAT</td>\n",
       "    </tr>\n",
       "    <tr>\n",
       "      <th>2</th>\n",
       "      <td>Good Humor Viennetta Frozen Vanilla Cake</td>\n",
       "      <td>NaN</td>\n",
       "      <td>GOOD HUMOR</td>\n",
       "    </tr>\n",
       "    <tr>\n",
       "      <th>3</th>\n",
       "      <td>Butterball, select varieties, spend $10 at Dil...</td>\n",
       "      <td>DILLONS FOOD STORE</td>\n",
       "      <td>BUTTERBALL</td>\n",
       "    </tr>\n",
       "    <tr>\n",
       "      <th>4</th>\n",
       "      <td>GATORADE® Fast Twitch®, 12-ounce 12 pack, at A...</td>\n",
       "      <td>AMAZON</td>\n",
       "      <td>GATORADE</td>\n",
       "    </tr>\n",
       "  </tbody>\n",
       "</table>\n",
       "</div>"
      ],
      "text/plain": [
       "                                               OFFER            RETAILER  \\\n",
       "0     Spend $50 on a Full-Priced new Club Membership           SAMS CLUB   \n",
       "1       Beyond Meat® Plant-Based products, spend $25                 NaN   \n",
       "2           Good Humor Viennetta Frozen Vanilla Cake                 NaN   \n",
       "3  Butterball, select varieties, spend $10 at Dil...  DILLONS FOOD STORE   \n",
       "4  GATORADE® Fast Twitch®, 12-ounce 12 pack, at A...              AMAZON   \n",
       "\n",
       "         BRAND  \n",
       "0    SAMS CLUB  \n",
       "1  BEYOND MEAT  \n",
       "2   GOOD HUMOR  \n",
       "3   BUTTERBALL  \n",
       "4     GATORADE  "
      ]
     },
     "execution_count": 13,
     "metadata": {},
     "output_type": "execute_result"
    }
   ],
   "source": [
    "offer_df.head()"
   ]
  },
  {
   "cell_type": "code",
   "execution_count": 14,
   "metadata": {},
   "outputs": [
    {
     "data": {
      "text/plain": [
       "OFFER       376\n",
       "RETAILER     61\n",
       "BRAND       144\n",
       "dtype: int64"
      ]
     },
     "execution_count": 14,
     "metadata": {},
     "output_type": "execute_result"
    }
   ],
   "source": [
    "offer_df.nunique()"
   ]
  },
  {
   "cell_type": "code",
   "execution_count": 15,
   "metadata": {},
   "outputs": [],
   "source": [
    "offer_df.rename(columns={'OFFER':\"offer\", 'RETAILER':'retailer', 'BRAND':'brand'}, inplace=True)"
   ]
  },
  {
   "cell_type": "code",
   "execution_count": 16,
   "metadata": {
    "editable": true,
    "slideshow": {
     "slide_type": ""
    },
    "tags": []
   },
   "outputs": [],
   "source": [
    "def col_lowercase(df):\n",
    "    for col in df.columns:\n",
    "        df[col] = df[col].str.lower()\n",
    "    return df"
   ]
  },
  {
   "cell_type": "code",
   "execution_count": 17,
   "metadata": {},
   "outputs": [
    {
     "name": "stderr",
     "output_type": "stream",
     "text": [
      "<ipython-input-16-8dd7205be92b>:3: SettingWithCopyWarning: \n",
      "A value is trying to be set on a copy of a slice from a DataFrame.\n",
      "Try using .loc[row_indexer,col_indexer] = value instead\n",
      "\n",
      "See the caveats in the documentation: https://pandas.pydata.org/pandas-docs/stable/user_guide/indexing.html#returning-a-view-versus-a-copy\n",
      "  df[col] = df[col].str.lower()\n"
     ]
    }
   ],
   "source": [
    "brand_df = col_lowercase(brand_df[['brand', 'category']])\n",
    "cat_df = col_lowercase(cat_df[['category', 'parent_category']])\n",
    "offer_df[['retailer', 'brand']] = col_lowercase(offer_df[['retailer', 'brand']])"
   ]
  },
  {
   "cell_type": "code",
   "execution_count": 18,
   "metadata": {},
   "outputs": [
    {
     "name": "stdout",
     "output_type": "stream",
     "text": [
      "<class 'pandas.core.frame.DataFrame'>\n",
      "RangeIndex: 388 entries, 0 to 387\n",
      "Data columns (total 5 columns):\n",
      " #   Column           Non-Null Count  Dtype \n",
      "---  ------           --------------  ----- \n",
      " 0   offer            388 non-null    object\n",
      " 1   retailer         242 non-null    object\n",
      " 2   brand            388 non-null    object\n",
      " 3   category         338 non-null    object\n",
      " 4   parent_category  157 non-null    object\n",
      "dtypes: object(5)\n",
      "memory usage: 15.3+ KB\n"
     ]
    }
   ],
   "source": [
    "# Merge all columns \n",
    "df = pd.merge(offer_df, brand_df, on='brand', how='left')\n",
    "df = pd.merge(df, cat_df, on='category', how='left')\n",
    "df.info()"
   ]
  },
  {
   "cell_type": "code",
   "execution_count": 19,
   "metadata": {},
   "outputs": [
    {
     "data": {
      "text/html": [
       "<div>\n",
       "<style scoped>\n",
       "    .dataframe tbody tr th:only-of-type {\n",
       "        vertical-align: middle;\n",
       "    }\n",
       "\n",
       "    .dataframe tbody tr th {\n",
       "        vertical-align: top;\n",
       "    }\n",
       "\n",
       "    .dataframe thead th {\n",
       "        text-align: right;\n",
       "    }\n",
       "</style>\n",
       "<table border=\"1\" class=\"dataframe\">\n",
       "  <thead>\n",
       "    <tr style=\"text-align: right;\">\n",
       "      <th></th>\n",
       "      <th>offer</th>\n",
       "      <th>retailer</th>\n",
       "      <th>brand</th>\n",
       "      <th>category</th>\n",
       "      <th>parent_category</th>\n",
       "    </tr>\n",
       "  </thead>\n",
       "  <tbody>\n",
       "    <tr>\n",
       "      <th>0</th>\n",
       "      <td>Spend $50 on a Full-Priced new Club Membership</td>\n",
       "      <td>sams club</td>\n",
       "      <td>sams club</td>\n",
       "      <td>NaN</td>\n",
       "      <td>NaN</td>\n",
       "    </tr>\n",
       "    <tr>\n",
       "      <th>1</th>\n",
       "      <td>Beyond Meat® Plant-Based products, spend $25</td>\n",
       "      <td>NaN</td>\n",
       "      <td>beyond meat</td>\n",
       "      <td>plant-based meat,frozen plant-based meat,packa...</td>\n",
       "      <td>NaN</td>\n",
       "    </tr>\n",
       "    <tr>\n",
       "      <th>2</th>\n",
       "      <td>Good Humor Viennetta Frozen Vanilla Cake</td>\n",
       "      <td>NaN</td>\n",
       "      <td>good humor</td>\n",
       "      <td>frozen desserts,dips &amp; salsa</td>\n",
       "      <td>NaN</td>\n",
       "    </tr>\n",
       "    <tr>\n",
       "      <th>3</th>\n",
       "      <td>Butterball, select varieties, spend $10 at Dil...</td>\n",
       "      <td>dillons food store</td>\n",
       "      <td>butterball</td>\n",
       "      <td>nut butters &amp; jam,frozen turkey</td>\n",
       "      <td>NaN</td>\n",
       "    </tr>\n",
       "    <tr>\n",
       "      <th>4</th>\n",
       "      <td>GATORADE® Fast Twitch®, 12-ounce 12 pack, at A...</td>\n",
       "      <td>amazon</td>\n",
       "      <td>gatorade</td>\n",
       "      <td>sports drinks,medicines &amp; treatments,meal repl...</td>\n",
       "      <td>NaN</td>\n",
       "    </tr>\n",
       "  </tbody>\n",
       "</table>\n",
       "</div>"
      ],
      "text/plain": [
       "                                               offer            retailer  \\\n",
       "0     Spend $50 on a Full-Priced new Club Membership           sams club   \n",
       "1       Beyond Meat® Plant-Based products, spend $25                 NaN   \n",
       "2           Good Humor Viennetta Frozen Vanilla Cake                 NaN   \n",
       "3  Butterball, select varieties, spend $10 at Dil...  dillons food store   \n",
       "4  GATORADE® Fast Twitch®, 12-ounce 12 pack, at A...              amazon   \n",
       "\n",
       "         brand                                           category  \\\n",
       "0    sams club                                                NaN   \n",
       "1  beyond meat  plant-based meat,frozen plant-based meat,packa...   \n",
       "2   good humor                       frozen desserts,dips & salsa   \n",
       "3   butterball                    nut butters & jam,frozen turkey   \n",
       "4     gatorade  sports drinks,medicines & treatments,meal repl...   \n",
       "\n",
       "  parent_category  \n",
       "0             NaN  \n",
       "1             NaN  \n",
       "2             NaN  \n",
       "3             NaN  \n",
       "4             NaN  "
      ]
     },
     "execution_count": 19,
     "metadata": {},
     "output_type": "execute_result"
    }
   ],
   "source": [
    "df.head()"
   ]
  },
  {
   "cell_type": "markdown",
   "metadata": {},
   "source": [
    "Fill null as empty strings."
   ]
  },
  {
   "cell_type": "code",
   "execution_count": 20,
   "metadata": {},
   "outputs": [],
   "source": [
    "df.fillna('', inplace=True)"
   ]
  },
  {
   "cell_type": "markdown",
   "metadata": {},
   "source": [
    "#### First, we create a lookup corpus. Then, for a given query sentence, we want to find the most similar sentence in this corpus."
   ]
  },
  {
   "cell_type": "code",
   "execution_count": 21,
   "metadata": {},
   "outputs": [
    {
     "data": {
      "text/html": [
       "<div>\n",
       "<style scoped>\n",
       "    .dataframe tbody tr th:only-of-type {\n",
       "        vertical-align: middle;\n",
       "    }\n",
       "\n",
       "    .dataframe tbody tr th {\n",
       "        vertical-align: top;\n",
       "    }\n",
       "\n",
       "    .dataframe thead th {\n",
       "        text-align: right;\n",
       "    }\n",
       "</style>\n",
       "<table border=\"1\" class=\"dataframe\">\n",
       "  <thead>\n",
       "    <tr style=\"text-align: right;\">\n",
       "      <th></th>\n",
       "      <th>offer</th>\n",
       "      <th>retailer</th>\n",
       "      <th>brand</th>\n",
       "      <th>category</th>\n",
       "      <th>parent_category</th>\n",
       "      <th>corpus</th>\n",
       "    </tr>\n",
       "  </thead>\n",
       "  <tbody>\n",
       "    <tr>\n",
       "      <th>0</th>\n",
       "      <td>Spend $50 on a Full-Priced new Club Membership</td>\n",
       "      <td>sams club</td>\n",
       "      <td>sams club</td>\n",
       "      <td></td>\n",
       "      <td></td>\n",
       "      <td>Spend $50 on a Full-Priced new Club Membership...</td>\n",
       "    </tr>\n",
       "    <tr>\n",
       "      <th>1</th>\n",
       "      <td>Beyond Meat® Plant-Based products, spend $25</td>\n",
       "      <td></td>\n",
       "      <td>beyond meat</td>\n",
       "      <td>plant-based meat,frozen plant-based meat,packa...</td>\n",
       "      <td></td>\n",
       "      <td>Beyond Meat® Plant-Based products, spend $25||...</td>\n",
       "    </tr>\n",
       "    <tr>\n",
       "      <th>2</th>\n",
       "      <td>Good Humor Viennetta Frozen Vanilla Cake</td>\n",
       "      <td></td>\n",
       "      <td>good humor</td>\n",
       "      <td>frozen desserts,dips &amp; salsa</td>\n",
       "      <td></td>\n",
       "      <td>Good Humor Viennetta Frozen Vanilla Cake||good...</td>\n",
       "    </tr>\n",
       "    <tr>\n",
       "      <th>3</th>\n",
       "      <td>Butterball, select varieties, spend $10 at Dil...</td>\n",
       "      <td>dillons food store</td>\n",
       "      <td>butterball</td>\n",
       "      <td>nut butters &amp; jam,frozen turkey</td>\n",
       "      <td></td>\n",
       "      <td>Butterball, select varieties, spend $10 at Dil...</td>\n",
       "    </tr>\n",
       "    <tr>\n",
       "      <th>4</th>\n",
       "      <td>GATORADE® Fast Twitch®, 12-ounce 12 pack, at A...</td>\n",
       "      <td>amazon</td>\n",
       "      <td>gatorade</td>\n",
       "      <td>sports drinks,medicines &amp; treatments,meal repl...</td>\n",
       "      <td></td>\n",
       "      <td>GATORADE® Fast Twitch®, 12-ounce 12 pack, at A...</td>\n",
       "    </tr>\n",
       "  </tbody>\n",
       "</table>\n",
       "</div>"
      ],
      "text/plain": [
       "                                               offer            retailer  \\\n",
       "0     Spend $50 on a Full-Priced new Club Membership           sams club   \n",
       "1       Beyond Meat® Plant-Based products, spend $25                       \n",
       "2           Good Humor Viennetta Frozen Vanilla Cake                       \n",
       "3  Butterball, select varieties, spend $10 at Dil...  dillons food store   \n",
       "4  GATORADE® Fast Twitch®, 12-ounce 12 pack, at A...              amazon   \n",
       "\n",
       "         brand                                           category  \\\n",
       "0    sams club                                                      \n",
       "1  beyond meat  plant-based meat,frozen plant-based meat,packa...   \n",
       "2   good humor                       frozen desserts,dips & salsa   \n",
       "3   butterball                    nut butters & jam,frozen turkey   \n",
       "4     gatorade  sports drinks,medicines & treatments,meal repl...   \n",
       "\n",
       "  parent_category                                             corpus  \n",
       "0                  Spend $50 on a Full-Priced new Club Membership...  \n",
       "1                  Beyond Meat® Plant-Based products, spend $25||...  \n",
       "2                  Good Humor Viennetta Frozen Vanilla Cake||good...  \n",
       "3                  Butterball, select varieties, spend $10 at Dil...  \n",
       "4                  GATORADE® Fast Twitch®, 12-ounce 12 pack, at A...  "
      ]
     },
     "execution_count": 21,
     "metadata": {},
     "output_type": "execute_result"
    }
   ],
   "source": [
    "df['corpus'] = df.apply(lambda col: '|'.join(col), axis=1)\n",
    "df.head()"
   ]
  },
  {
   "cell_type": "code",
   "execution_count": 22,
   "metadata": {},
   "outputs": [],
   "source": [
    "corpus = df['corpus']"
   ]
  },
  {
   "cell_type": "markdown",
   "metadata": {},
   "source": [
    "#### Randomly sampling one row to verify the strings."
   ]
  },
  {
   "cell_type": "code",
   "execution_count": 23,
   "metadata": {},
   "outputs": [
    {
     "name": "stdout",
     "output_type": "stream",
     "text": [
      "Shop 2 times at Vons|vons|vons|spirits|alcohol\n"
     ]
    }
   ],
   "source": [
    "print(corpus.sample(1).values[0])"
   ]
  },
  {
   "cell_type": "markdown",
   "metadata": {},
   "source": [
    "# 2. Modeling"
   ]
  },
  {
   "cell_type": "code",
   "execution_count": 24,
   "metadata": {},
   "outputs": [
    {
     "data": {
      "text/plain": [
       "<AxesSubplot:>"
      ]
     },
     "execution_count": 24,
     "metadata": {},
     "output_type": "execute_result"
    },
    {
     "data": {
      "image/png": "[encoded data removed]",
      "text/plain": [
       "<Figure size 432x288 with 1 Axes>"
      ]
     },
     "metadata": {
      "needs_background": "light"
     },
     "output_type": "display_data"
    }
   ],
   "source": [
    "# Plot the distribution of charactor length of the OFFERs\n",
    "corpus.apply(len).hist()"
   ]
  },
  {
   "cell_type": "markdown",
   "metadata": {},
   "source": [
    "#### The length of each offer is less than 400 characters. Therefore we can choose a model that is suitable for short paragraphs. In SBert, the pre-trained models are tuned for cosine-similarity or dot-product. Models tuned for cosine-similarity will prefer the retrieval of short documents, while models tuned for dot-product will prefer the retrieval of longer documents. <br>\n",
    "![image](img/sbert_models.png)\n",
    "#### Hence, for this project, we will choose msmarco-distilbert-base-v4."
   ]
  },
  {
   "cell_type": "code",
   "execution_count": 25,
   "metadata": {},
   "outputs": [
    {
     "data": {
      "application/vnd.jupyter.widget-view+json": {
       "model_id": "84196cfb72644f8f81ca75f139dc4b48",
       "version_major": 2,
       "version_minor": 0
      },
      "text/plain": [
       "HBox(children=(HTML(value='Batches'), FloatProgress(value=0.0, max=13.0), HTML(value='')))"
      ]
     },
     "metadata": {},
     "output_type": "display_data"
    },
    {
     "name": "stdout",
     "output_type": "stream",
     "text": [
      "\n"
     ]
    }
   ],
   "source": [
    "embedder = SentenceTransformer('msmarco-distilbert-base-v4')\n",
    "embedder.max_seq_length = 256\n",
    "corpus_embeddings = embedder.encode(corpus, convert_to_tensor=True, show_progress_bar=True)"
   ]
  },
  {
   "cell_type": "code",
   "execution_count": 26,
   "metadata": {},
   "outputs": [
    {
     "name": "stdout",
     "output_type": "stream",
     "text": [
      "\n",
      "\n",
      "======================\n",
      "\n",
      "\n",
      "Query: walmart frozen\n",
      "\n",
      "Top 5 most similar sentences in corpus:\n",
      "\n",
      "Tyson Products, select varieties, spend $15 at Walmart (Score: 0.3872)\n",
      "Gorton's at select retailers (Score: 0.3813)\n",
      "Gorton's Air Fried Butterfly Shrimp, at Walmart (Score: 0.3759)\n",
      "Breyers Reese's Ice Cream, select varieties, at GIANT OR MARTIN’S (Score: 0.3687)\n",
      "Thomas'® Bagel Thins (Score: 0.3612)\n",
      "\n",
      "\n",
      "======================\n",
      "\n",
      "\n",
      "Query: dove\n",
      "\n",
      "Top 5 most similar sentences in corpus:\n",
      "\n",
      "DOVE® chocolate, select varieties (Score: 0.3457)\n",
      "Dove Hand Wash, select varieties, buy 2 at Target (Score: 0.3245)\n",
      "Dove Hand Wash, select varieties at Target (Score: 0.3209)\n",
      "DOVE® Chocolate, select sizes, buy 1 (Score: 0.3036)\n",
      "Bays® English Muffins (Score: 0.1961)\n",
      "\n",
      "\n",
      "======================\n",
      "\n",
      "\n",
      "Query: frozen\n",
      "\n",
      "Top 5 most similar sentences in corpus:\n",
      "\n",
      "Thomas'® Bagel Thins (Score: 0.3127)\n",
      "Talenti Mini Bars (Score: 0.2834)\n",
      "Ben & Jerry's®, select varieties, spend $12 (Score: 0.2820)\n",
      "GOYA® Coconut Water (Score: 0.2702)\n",
      "Thomas'® Bagel Thins®, buy 2 (Score: 0.2678)\n"
     ]
    }
   ],
   "source": [
    "# Query sentences:\n",
    "queries = ['walmart frozen', 'dove', 'frozen']\n",
    "\n",
    "# Find the closest 5 sentences of the corpus for each query sentence based on cosine similarity\n",
    "top_k = min(5, len(corpus))\n",
    "for query in queries:\n",
    "    query_embedding = embedder.encode(query, convert_to_tensor=True)\n",
    "\n",
    "    # We use cosine-similarity and torch.topk to find the highest 5 scores\n",
    "    cos_scores = util.cos_sim(query_embedding, corpus_embeddings)[0]\n",
    "    top_results = torch.topk(cos_scores, k=top_k)\n",
    "\n",
    "    print(\"\\n\\n======================\\n\\n\")\n",
    "    print(\"Query:\", query)\n",
    "    print(\"\\nTop 5 most similar sentences in corpus:\\n\")\n",
    "\n",
    "    for score, idx in zip(top_results[0], top_results[1]):\n",
    "        print(df.iloc[idx.item()]['offer'], \"(Score: {:.4f})\".format(score))"
   ]
  },
  {
   "cell_type": "code",
   "execution_count": 27,
   "metadata": {},
   "outputs": [
    {
     "data": {
      "text/plain": [
       "torch.return_types.topk(\n",
       "values=tensor([0.3127, 0.2834, 0.2820, 0.2702, 0.2678]),\n",
       "indices=tensor([385,  75, 201, 166, 124]))"
      ]
     },
     "execution_count": 27,
     "metadata": {},
     "output_type": "execute_result"
    }
   ],
   "source": [
    "top_results"
   ]
  },
  {
   "cell_type": "code",
   "execution_count": 28,
   "metadata": {},
   "outputs": [
    {
     "data": {
      "text/html": [
       "<div>\n",
       "<style scoped>\n",
       "    .dataframe tbody tr th:only-of-type {\n",
       "        vertical-align: middle;\n",
       "    }\n",
       "\n",
       "    .dataframe tbody tr th {\n",
       "        vertical-align: top;\n",
       "    }\n",
       "\n",
       "    .dataframe thead th {\n",
       "        text-align: right;\n",
       "    }\n",
       "</style>\n",
       "<table border=\"1\" class=\"dataframe\">\n",
       "  <thead>\n",
       "    <tr style=\"text-align: right;\">\n",
       "      <th></th>\n",
       "      <th>Score</th>\n",
       "      <th>Offer</th>\n",
       "    </tr>\n",
       "  </thead>\n",
       "  <tbody>\n",
       "    <tr>\n",
       "      <th>385</th>\n",
       "      <td>0.312730</td>\n",
       "      <td>Thomas'® Bagel Thins</td>\n",
       "    </tr>\n",
       "    <tr>\n",
       "      <th>75</th>\n",
       "      <td>0.283373</td>\n",
       "      <td>Talenti Mini Bars</td>\n",
       "    </tr>\n",
       "    <tr>\n",
       "      <th>201</th>\n",
       "      <td>0.281968</td>\n",
       "      <td>Ben &amp; Jerry's®, select varieties, spend $12</td>\n",
       "    </tr>\n",
       "    <tr>\n",
       "      <th>166</th>\n",
       "      <td>0.270156</td>\n",
       "      <td>GOYA® Coconut Water</td>\n",
       "    </tr>\n",
       "    <tr>\n",
       "      <th>124</th>\n",
       "      <td>0.267818</td>\n",
       "      <td>Thomas'® Bagel Thins®, buy 2</td>\n",
       "    </tr>\n",
       "  </tbody>\n",
       "</table>\n",
       "</div>"
      ],
      "text/plain": [
       "        Score                                        Offer\n",
       "385  0.312730                         Thomas'® Bagel Thins\n",
       "75   0.283373                            Talenti Mini Bars\n",
       "201  0.281968  Ben & Jerry's®, select varieties, spend $12\n",
       "166  0.270156                          GOYA® Coconut Water\n",
       "124  0.267818                 Thomas'® Bagel Thins®, buy 2"
      ]
     },
     "execution_count": 28,
     "metadata": {},
     "output_type": "execute_result"
    }
   ],
   "source": [
    "res = pd.DataFrame({'Score':top_results[0], 'Offer':df.iloc[top_results[1].tolist()]['offer']})\n",
    "res"
   ]
  },
  {
   "cell_type": "code",
   "execution_count": 29,
   "metadata": {},
   "outputs": [],
   "source": [
    "# Wrap the code to a search function\n",
    "def search(query, top_k):\n",
    "    query_embedding = embedder.encode(query, convert_to_tensor=True)\n",
    "\n",
    "    # We use cosine-similarity and torch.topk to find the highest 5 scores\n",
    "    cos_scores = util.cos_sim(query_embedding, corpus_embeddings)[0]\n",
    "    top_results = torch.topk(cos_scores, k=top_k)\n",
    "\n",
    "    print(\"Query:\", query)\n",
    "    print(\"\\n============================\\n\")\n",
    "    print(\"\\nTop 5 most similar sentences in corpus:\\n\")\n",
    "\n",
    "    for score, idx in zip(top_results[0], top_results[1]):\n",
    "        print(df.iloc[idx.item()]['offer'], \"(Score: {:.4f})\".format(score))"
   ]
  },
  {
   "cell_type": "markdown",
   "metadata": {},
   "source": [
    "# 3. Testing"
   ]
  },
  {
   "cell_type": "code",
   "execution_count": 30,
   "metadata": {},
   "outputs": [
    {
     "name": "stdout",
     "output_type": "stream",
     "text": [
      "Query: chocolate icecream\n",
      "\n",
      "============================\n",
      "\n",
      "\n",
      "Top 5 most similar sentences in corpus:\n",
      "\n",
      "Reese's Chocolate Cones, 8 count at GIANT OR MARTIN’S (Score: 0.3294)\n",
      "Reese's Chocolate Cones, 8 count at GIANT OR MARTIN’S (Score: 0.3210)\n",
      "LIFE SAVERS® (Score: 0.3176)\n",
      "DOVE® chocolate, select varieties (Score: 0.3138)\n",
      "Marinela® sweet baked goods, buy 2 (Score: 0.3070)\n"
     ]
    }
   ],
   "source": [
    "# Search for a product\n",
    "search('chocolate icecream', 5)"
   ]
  },
  {
   "cell_type": "code",
   "execution_count": 31,
   "metadata": {},
   "outputs": [
    {
     "name": "stdout",
     "output_type": "stream",
     "text": [
      "Query: Target\n",
      "\n",
      "============================\n",
      "\n",
      "\n",
      "Top 5 most similar sentences in corpus:\n",
      "\n",
      "Arber, at Target (Score: 0.5044)\n",
      "L'Oréal Paris Makeup, spend $35 at Target (Score: 0.3750)\n",
      "L'Oréal Paris Makeup, spend $30 at Target (Score: 0.3743)\n",
      "L'Oreal Paris True Match Foundation at Target (Score: 0.3549)\n",
      "L'Oréal Paris True Match Foundation at Target (Score: 0.3549)\n",
      "L'Oréal Paris Hair color, select varieties, spend $25 at Target (Score: 0.2908)\n",
      "Dove Hand Wash, select varieties at Target (Score: 0.2760)\n",
      "L'Oréal Paris Excellence Hair Color at Target (Score: 0.2744)\n",
      "L'Oréal Paris Hair color, select varieties, spend $19 at Target (Score: 0.2726)\n",
      "Dove Hand Wash, select varieties, buy 2 at Target (Score: 0.2721)\n"
     ]
    }
   ],
   "source": [
    "# Retailer\n",
    "search('Target', 10)"
   ]
  },
  {
   "cell_type": "code",
   "execution_count": 32,
   "metadata": {},
   "outputs": [
    {
     "name": "stdout",
     "output_type": "stream",
     "text": [
      "Query: liquor\n",
      "\n",
      "============================\n",
      "\n",
      "\n",
      "Top 5 most similar sentences in corpus:\n",
      "\n",
      "Sol® 6 pack+ (Score: 0.3605)\n",
      "Any Vons receipt (Score: 0.3401)\n",
      "Shop 2 times at Vons (Score: 0.2830)\n",
      "Spend $150 at Vons (Score: 0.2726)\n",
      "Spend $100 at Vons (Score: 0.2696)\n",
      "Spend $275 at Vons (Score: 0.2636)\n",
      "Sign up for McAlister's Deli Rewards, tap for details (Score: 0.2543)\n",
      "Coors Light®, Miller Lite® OR VIZZY™ 12 pack+ (Score: 0.2529)\n",
      "Coors Light®, Miller Lite® OR VIZZY™ 12 packs+, buy 3 (Score: 0.2333)\n",
      "Coors Light®, Miller Lite® OR VIZZY™ 12 packs+, buy 4 (Score: 0.2306)\n"
     ]
    }
   ],
   "source": [
    "# Category\n",
    "search('liquor', 10)"
   ]
  },
  {
   "cell_type": "code",
   "execution_count": 33,
   "metadata": {},
   "outputs": [
    {
     "name": "stdout",
     "output_type": "stream",
     "text": [
      "Query: liquir\n",
      "\n",
      "============================\n",
      "\n",
      "\n",
      "Top 5 most similar sentences in corpus:\n",
      "\n",
      "Brita® Standard OR Elite Filters (Score: 0.1634)\n",
      "Coors Light®, Miller Lite® OR VIZZY™ 12 pack+ (Score: 0.1603)\n",
      "Coors Light®, Miller Lite® OR VIZZY™ 12 packs+, buy 3 (Score: 0.1592)\n",
      "Coors Light®, Miller Lite® OR VIZZY™ 12 packs+, buy 4 (Score: 0.1572)\n",
      "Brita® Pitcher AND Filter (Score: 0.1567)\n"
     ]
    }
   ],
   "source": [
    "# Keyword with typo\n",
    "search('liquir', 5)"
   ]
  },
  {
   "cell_type": "code",
   "execution_count": 34,
   "metadata": {},
   "outputs": [
    {
     "name": "stdout",
     "output_type": "stream",
     "text": [
      "Query: \n",
      "\n",
      "============================\n",
      "\n",
      "\n",
      "Top 5 most similar sentences in corpus:\n",
      "\n",
      "Dr Pepper®, Regular OR Zero Sugar Strawberries and Cream 12 pack, at select retailers (Score: 0.1117)\n",
      "Squirrel, The Bedside Perch, online at Amazon (Score: 0.1063)\n",
      "Welch's® Zero Sugar Fruity Bites, 6 pack+, online at Amazon (Score: 0.0860)\n",
      "EXTRA®, select varieties (Score: 0.0808)\n",
      "EXTRA®, select sizes (Score: 0.0800)\n"
     ]
    }
   ],
   "source": [
    "# Empty search\n",
    "search('', 5)"
   ]
  },
  {
   "cell_type": "markdown",
   "metadata": {},
   "source": [
    "# 4. Deployment\n",
    "#### The Semantic Search tool was deployed on Hugging Face's Spaces platform, making it readily available for users to access. "
   ]
  },
  {
   "cell_type": "code",
   "execution_count": null,
   "metadata": {},
   "outputs": [],
   "source": [
    "# app.py\n",
    "\n",
    "import streamlit as st\n",
    "import pandas as pd\n",
    "from sentence_transformers import SentenceTransformer, util\n",
    "import torch\n",
    "\n",
    "st.title('Semantic Search Tool Using SBERT')\n",
    "st.markdown(\n",
    "    \"\"\"\n",
    "\tFetch provides value to our user base through the rich variety of offers\n",
    "    that are active in the app. We want our users to be able to easily seek \n",
    "    out offers in the app, so that they get the most out of using the app \n",
    "    and our partners get the most out of their relationship with Fetch. \n",
    "    Semantic Search model was utilized to search for relevant offers based \n",
    "    on user-provided keywords, such as categories, brands, or retailers.\n",
    "    \"\"\"\n",
    ")\n",
    "\n",
    "embedder = SentenceTransformer('msmarco-distilbert-base-v4')\n",
    "embedder.max_seq_length = 256\n",
    "df = pd.read_csv('data.csv', index_col=0).fillna(\"\")\n",
    "corpus = df['corpus']\n",
    "corpus_embeddings = embedder.encode(corpus, convert_to_tensor=True, show_progress_bar=True)\n",
    "\n",
    "def search(query, top_k):\n",
    "    \"\"\"Search the closest k results to input query\n",
    "    Args:\n",
    "        query: A string value\n",
    "        top_k: A integer between 1 and corpus length\n",
    "        \n",
    "    Returns:\n",
    "        top_results: a tuple contains the scores and indices of the top k results.\n",
    "    \"\"\"\n",
    "    query_embedding = embedder.encode(query, convert_to_tensor=True)\n",
    "    cos_scores = util.cos_sim(query_embedding, corpus_embeddings)[0]\n",
    "    top_results = torch.topk(cos_scores, k=top_k)\n",
    "    \n",
    "    return top_results\n",
    "\t\n",
    "with st.form(\"my_form\"):\n",
    "    query = st.text_input(\"Enter keywords to search for relevant offers, e.g. 'Walmart', 'ice cream', etc. \", placeholder = \"Search:\")\n",
    "    k = st.number_input('Top K relevent offers', min_value=3, max_value=10)\n",
    "    submitted = st.form_submit_button(\"Submit\")\n",
    "    if submitted:\n",
    "        top_results = search(query, k)\n",
    "        for score, idx in zip(top_results[0], top_results[1]):\n",
    "            st.write(df.iloc[idx.item()]['offer'], \"(Score: {:.4f})\".format(score))\n",
    "        st.write(\"\\nFinished searching.\")"
   ]
  }
 ],
 "metadata": {
  "kernelspec": {
   "display_name": "Python 3",
   "language": "python",
   "name": "python3"
  },
  "language_info": {
   "codemirror_mode": {
    "name": "ipython",
    "version": 3
   },
   "file_extension": ".py",
   "mimetype": "text/x-python",
   "name": "python",
   "nbconvert_exporter": "python",
   "pygments_lexer": "ipython3",
   "version": "3.8.2"
  }
 },
 "nbformat": 4,
 "nbformat_minor": 4
}
